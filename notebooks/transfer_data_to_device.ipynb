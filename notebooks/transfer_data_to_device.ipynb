{
 "cells": [
  {
   "cell_type": "markdown",
   "id": "ebf4a7a7-6d2a-4af8-802d-728bd28940ba",
   "metadata": {},
   "source": [
    "# Transfer data to/from the GPU device"
   ]
  },
  {
   "cell_type": "markdown",
   "id": "94892a05-be36-46e3-b6c8-997e05cc3ecd",
   "metadata": {},
   "source": [
    "## Overview"
   ]
  },
  {
   "cell_type": "markdown",
   "id": "eac6ba3e-ce89-45ef-8992-0c97716c93bc",
   "metadata": {},
   "source": [
    "In this section we will see how to transfer data to and from the GPU device\n",
    "with CUDA."
   ]
  },
  {
   "cell_type": "markdown",
   "id": "532b0130-77f2-4c10-9f0e-33660b8b631c",
   "metadata": {},
   "source": [
    "## Transfer data to/from the GPU device"
   ]
  },
  {
   "cell_type": "markdown",
   "id": "aaf7f90a-5a80-4300-887b-a592e3ae5ce2",
   "metadata": {},
   "source": [
    "There are three main ways to transfer data to and from a CUDA enabled GPU \n",
    "device\n",
    "\n",
    "- Host to device\n",
    "- Device to host\n",
    "- Device to device\n",
    "\n",
    "The CUDA function to transfer data is the ```cudaMemcpy```."
   ]
  },
  {
   "cell_type": "markdown",
   "id": "5b0d1bfd-0a80-408d-bf0d-289006d92a93",
   "metadata": {},
   "source": [
    "The CUDA API provides analogus functions to the C language. This is shown in the table below\n",
    "\n",
    "\n",
    "| C      | CUDA        |\n",
    "|--------| ------------|\n",
    "| malloc | cudaMalloc  |\n",
    "| memset | cudaMemset  |\n",
    "| free   | cudaFree    |\n"
   ]
  },
  {
   "cell_type": "code",
   "execution_count": null,
   "id": "97a26fa3-c5ed-4301-8b07-be09afbdd397",
   "metadata": {},
   "outputs": [],
   "source": []
  }
 ],
 "metadata": {
  "kernelspec": {
   "display_name": "Python 3 (ipykernel)",
   "language": "python",
   "name": "python3"
  },
  "language_info": {
   "codemirror_mode": {
    "name": "ipython",
    "version": 3
   },
   "file_extension": ".py",
   "mimetype": "text/x-python",
   "name": "python",
   "nbconvert_exporter": "python",
   "pygments_lexer": "ipython3",
   "version": "3.10.12"
  }
 },
 "nbformat": 4,
 "nbformat_minor": 5
}
